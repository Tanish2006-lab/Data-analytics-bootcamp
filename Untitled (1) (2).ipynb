{
 "cells": [
  {
   "cell_type": "code",
   "execution_count": 4,
   "id": "9a4277f9-560f-48d0-82a5-383dc42e9c6a",
   "metadata": {},
   "outputs": [
    {
     "name": "stdin",
     "output_type": "stream",
     "text": [
      "Set Password: Tanveer\n",
      "Enter Password: Ramit\n"
     ]
    },
    {
     "name": "stdout",
     "output_type": "stream",
     "text": [
      "You have 2 attempts left\n"
     ]
    },
    {
     "name": "stdin",
     "output_type": "stream",
     "text": [
      "Enter Password: Raju\n"
     ]
    },
    {
     "name": "stdout",
     "output_type": "stream",
     "text": [
      "You have 1 attempts left\n"
     ]
    },
    {
     "name": "stdin",
     "output_type": "stream",
     "text": [
      "Enter Password: Ramesh\n"
     ]
    },
    {
     "name": "stdout",
     "output_type": "stream",
     "text": [
      "You have 0 attempts left\n",
      "Too many attempts\n"
     ]
    }
   ],
   "source": [
    "password=input(\"Set Password:\")\n",
    "attempt=3\n",
    "while attempt>0:\n",
    "    user_password=input(\"Enter Password:\")\n",
    "    if password==user_password:\n",
    "        print(\"Access Granted\")\n",
    "    else:\n",
    "        attempt-=1\n",
    "        print(f\"You have {attempt} attempts left\")\n",
    "        if attempt==0:\n",
    "            print(\"Too many attempts\")"
   ]
  },
  {
   "cell_type": "code",
   "execution_count": null,
   "id": "349956c2-02ed-4a87-abce-3a7ab2415b3f",
   "metadata": {},
   "outputs": [],
   "source": []
  }
 ],
 "metadata": {
  "kernelspec": {
   "display_name": "anaconda-2024.02-py310",
   "language": "python",
   "name": "conda-env-anaconda-2024.02-py310-py"
  },
  "language_info": {
   "codemirror_mode": {
    "name": "ipython",
    "version": 3
   },
   "file_extension": ".py",
   "mimetype": "text/x-python",
   "name": "python",
   "nbconvert_exporter": "python",
   "pygments_lexer": "ipython3",
   "version": "3.10.14"
  }
 },
 "nbformat": 4,
 "nbformat_minor": 5
}
